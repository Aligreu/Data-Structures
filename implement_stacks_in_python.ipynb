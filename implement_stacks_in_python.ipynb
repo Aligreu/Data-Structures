{
  "cells": [
    {
      "cell_type": "code",
      "source": [
        "'''\n",
        "implement stack in python\n",
        "'''\n",
        "\n",
        "class Stack:\n",
        "    def __init__(self):\n",
        "        self.items = []\n",
        "    ''' push the item to the stack'''\n",
        "    def put(self, item):\n",
        "        return self.items.append(item)\n",
        "    ''' remove the last item from the stack'''\n",
        "    def pop(self):\n",
        "        return self.items.pop()\n",
        "    ''' take a look at the last item in the stack'''\n",
        "    def peek(self):\n",
        "        if len(self.item) > 0:\n",
        "            return self.items[-1]\n",
        "        else:\n",
        "            return None\n",
        "    ''' check if the stack have elements or not '''\n",
        "    def has_elements(self):\n",
        "        if len(self.items) > 0:\n",
        "            return len(self.items)\n",
        "        else:\n",
        "            return \"the stack is empty\"\n",
        "\n",
        "\n",
        "stack = Stack()\n",
        "stack.put(\"Ali\")\n",
        "print(stack.has_elements())\n",
        "stack.put('Gerew')\n",
        "print(stack.has_elements())\n",
        "print(stack.pop())\n",
        "print(stack.pop())\n",
        "print(stack.has_elements())"
      ],
      "metadata": {
        "id": "AxxPzZCRHli7",
        "outputId": "ccf7caaa-ff5d-4e5a-b942-42061819987e",
        "colab": {
          "base_uri": "https://localhost:8080/"
        }
      },
      "execution_count": 1,
      "outputs": [
        {
          "output_type": "stream",
          "name": "stdout",
          "text": [
            "1\n",
            "2\n",
            "Gerew\n",
            "Ali\n",
            "the stack is empty\n"
          ]
        }
      ]
    },
    {
      "cell_type": "code",
      "source": [],
      "metadata": {
        "id": "tuYIXD8qHm9c"
      },
      "execution_count": null,
      "outputs": []
    }
  ],
  "metadata": {
    "colab": {
      "provenance": []
    },
    "kernelspec": {
      "display_name": "Python 3",
      "name": "python3"
    }
  },
  "nbformat": 4,
  "nbformat_minor": 0
}