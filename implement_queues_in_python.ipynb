{
  "cells": [
    {
      "cell_type": "markdown",
      "metadata": {
        "id": "view-in-github",
        "colab_type": "text"
      },
      "source": [
        "<a href=\"https://colab.research.google.com/github/Aligreu/Data-Structures/blob/implement-the-data-structures-in-python-language/implement_queues_in_python.ipynb\" target=\"_parent\"><img src=\"https://colab.research.google.com/assets/colab-badge.svg\" alt=\"Open In Colab\"/></a>"
      ]
    },
    {
      "cell_type": "code",
      "source": [
        "'''\n",
        "implement Queues in python\n",
        "'''\n",
        "\n",
        "class Queue:\n",
        "    def __init__(self):\n",
        "        self.items = []\n",
        "    ''' add the item to the queue'''\n",
        "    def add(self, item):\n",
        "        return self.items.append(item)\n",
        "    ''' remove the first item from the Queue'''\n",
        "    def eleminate(self):\n",
        "        return self.items.pop(0)\n",
        "    ''' check if the Queue have elements or not'''\n",
        "    def has_elements(self):\n",
        "        if len(self.items) > 0:\n",
        "            return len(self.items)\n",
        "        else:\n",
        "            return \"the Queue is empty\"\n",
        "\n",
        "\n",
        "queue = Queue()\n",
        "\n",
        "queue.add(\"Ali\")\n",
        "queue.add(\"Ahmed\")\n",
        "queue.add(\"samer\")\n",
        "queue.add('tamer')\n",
        "\n",
        "print(queue.has_elements())\n",
        "\n",
        "print(queue.eleminate())\n",
        "print(queue.eleminate())\n",
        "print(queue.eleminate())\n",
        "\n",
        "print(queue.has_elements())"
      ],
      "metadata": {
        "id": "AxxPzZCRHli7",
        "outputId": "10886459-b939-400c-a7b7-4a77f0809e68",
        "colab": {
          "base_uri": "https://localhost:8080/"
        }
      },
      "execution_count": 6,
      "outputs": [
        {
          "output_type": "stream",
          "name": "stdout",
          "text": [
            "4\n",
            "Ali\n",
            "Ahmed\n",
            "samer\n",
            "1\n"
          ]
        }
      ]
    },
    {
      "cell_type": "code",
      "source": [],
      "metadata": {
        "id": "tuYIXD8qHm9c"
      },
      "execution_count": null,
      "outputs": []
    }
  ],
  "metadata": {
    "colab": {
      "provenance": [],
      "include_colab_link": true
    },
    "kernelspec": {
      "display_name": "Python 3",
      "name": "python3"
    }
  },
  "nbformat": 4,
  "nbformat_minor": 0
}